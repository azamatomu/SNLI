{
  "nbformat": 4,
  "nbformat_minor": 0,
  "metadata": {
    "colab": {
      "name": "Untitled1.ipynb",
      "version": "0.3.2",
      "provenance": [],
      "collapsed_sections": []
    },
    "kernelspec": {
      "name": "python3",
      "display_name": "Python 3"
    },
    "accelerator": "GPU"
  },
  "cells": [
    {
      "metadata": {
        "id": "cUejJfKr1LuU",
        "colab_type": "code",
        "colab": {}
      },
      "cell_type": "code",
      "source": [
        "import numpy as np\n",
        "import matplotlib.pyplot as plt\n",
        "import torch\n",
        "import torchtext\n",
        "from torchtext import data, datasets, vocab\n",
        "from nltk.tokenize import word_tokenize\n",
        "from models import EncoderBaseline, EncoderLSTM, Classifier\n",
        "import nltk\n",
        "nltk.download('punkt')\n",
        "import torch.nn as nn\n",
        "\n"
      ],
      "execution_count": 0,
      "outputs": []
    },
    {
      "metadata": {
        "id": "fZvNfRiPCz0P",
        "colab_type": "code",
        "colab": {}
      },
      "cell_type": "code",
      "source": [
        "results = np.load('results_Baseline.npy')"
      ],
      "execution_count": 0,
      "outputs": []
    },
    {
      "metadata": {
        "id": "KUaI7DtK-hVN",
        "colab_type": "text"
      },
      "cell_type": "markdown",
      "source": [
        "# Training models"
      ]
    },
    {
      "metadata": {
        "id": "RNz2HiQd2rQ8",
        "colab_type": "code",
        "colab": {}
      },
      "cell_type": "code",
      "source": [
        "results = results.tolist()\n",
        "tr_loss = results['train_loss']\n",
        "vl_loss = results['val_loss']\n",
        "vl_acc = results['val_accuracy']"
      ],
      "execution_count": 0,
      "outputs": []
    },
    {
      "metadata": {
        "id": "mnGuANHb32_Z",
        "colab_type": "code",
        "colab": {
          "base_uri": "https://localhost:8080/",
          "height": 312
        },
        "outputId": "9b296c74-3bbc-4d4d-fd35-1af72fb48267"
      },
      "cell_type": "code",
      "source": [
        "plt.plot(range(0,len(tr_loss)), tr_loss, label='train loss')\n",
        "plt.plot(range(0,len(vl_loss)), vl_loss, label='val loss')\n",
        "plt.plot(range(0,len(vl_acc)), vl_acc, label='val accuracy', linewidth=3)\n",
        "plt.grid()\n",
        "plt.xlabel('epoch')\n",
        "plt.legend()\n",
        "plt.title('Baseline encoder: training')"
      ],
      "execution_count": 3,
      "outputs": [
        {
          "output_type": "execute_result",
          "data": {
            "text/plain": [
              "Text(0.5, 1.0, 'Baseline encoder: training')"
            ]
          },
          "metadata": {
            "tags": []
          },
          "execution_count": 3
        },
        {
          "output_type": "display_data",
          "data": {
            "image/png": "[encoded data removed]",
            "text/plain": [
              "<Figure size 432x288 with 1 Axes>"
            ]
          },
          "metadata": {
            "tags": []
          }
        }
      ]
    },
    {
      "metadata": {
        "id": "AntKkkPJ5jlN",
        "colab_type": "code",
        "colab": {
          "base_uri": "https://localhost:8080/",
          "height": 312
        },
        "outputId": "15dde2d3-a014-4858-d1dd-11c6a029adc3"
      },
      "cell_type": "code",
      "source": [
        "results = np.load('results_LSTM.npy')\n",
        "results = results.tolist()\n",
        "tr_loss = results['train_loss']\n",
        "vl_loss = results['val_loss']\n",
        "vl_acc = results['val_accuracy']\n",
        "\n",
        "plt.plot(range(0,len(tr_loss)), tr_loss, label='train loss')\n",
        "plt.plot(range(0,len(vl_loss)), vl_loss, label='val loss')\n",
        "plt.plot(range(0,len(vl_acc)), vl_acc, label='val accuracy', linewidth=3)\n",
        "plt.grid()\n",
        "plt.xlabel('epoch')\n",
        "plt.legend()\n",
        "plt.title('LSTM encoder: training')"
      ],
      "execution_count": 4,
      "outputs": [
        {
          "output_type": "execute_result",
          "data": {
            "text/plain": [
              "Text(0.5, 1.0, 'LSTM encoder: training')"
            ]
          },
          "metadata": {
            "tags": []
          },
          "execution_count": 4
        },
        {
          "output_type": "display_data",
          "data": {
            "image/png": "[encoded data removed]",
            "text/plain": [
              "<Figure size 432x288 with 1 Axes>"
            ]
          },
          "metadata": {
            "tags": []
          }
        }
      ]
    },
    {
      "metadata": {
        "id": "ErJT_106-aW_",
        "colab_type": "text"
      },
      "cell_type": "markdown",
      "source": [
        "## Performance on SNLI tasks"
      ]
    },
    {
      "metadata": {
        "id": "_kcM8866CntJ",
        "colab_type": "code",
        "colab": {
          "base_uri": "https://localhost:8080/",
          "height": 282
        },
        "outputId": "c5a89bc8-5a1c-47d6-fd14-52e18df848dd"
      },
      "cell_type": "code",
      "source": [
        "results = np.load('test_acc.npy')\n",
        "results = results.tolist()\n",
        "plt.figure(figsize=(4,4))\n",
        "plt.bar(list(results), results.values())\n",
        "plt.ylabel('accuracy')\n",
        "plt.title('Performance of models on SNLI test set')\n",
        "plt.grid()"
      ],
      "execution_count": 11,
      "outputs": [
        {
          "output_type": "display_data",
          "data": {
            "image/png": "[encoded data removed]",
            "text/plain": [
              "<Figure size 288x288 with 1 Axes>"
            ]
          },
          "metadata": {
            "tags": []
          }
        }
      ]
    },
    {
      "metadata": {
        "id": "mzGyrqBeCotF",
        "colab_type": "text"
      },
      "cell_type": "markdown",
      "source": [
        "## Performance on SentEval tasks"
      ]
    },
    {
      "metadata": {
        "id": "FNtRGjoH8wlF",
        "colab_type": "code",
        "colab": {}
      },
      "cell_type": "code",
      "source": [
        "sentevalbase = {'MR': {'devacc': 58.79, 'acc': 47.69, 'ndev': 74, 'ntest': 74}, 'CR': {'devacc': 75.31, 'acc': 76.34, 'ndev': 3775, 'ntest': 3775}, 'SUBJ': {'devacc': 99.6, 'acc': 99.6, 'ndev': 5020, 'ntest': 5020}, 'MPQA': {'devacc': 76.0, 'acc': 76.08, 'ndev': 10606, 'ntest': 10606}, 'TREC': {'devacc': 64.58, 'acc': 67.8, 'ndev': 5452, 'ntest': 500}, 'SST2': {'devacc': 73.05, 'acc': 70.35, 'ndev': 872, 'ntest': 1821}, 'SICKEntailment': {'devacc': 79.4, 'acc': 77.63, 'ndev': 500, 'ntest': 4927}}"
      ],
      "execution_count": 0,
      "outputs": []
    },
    {
      "metadata": {
        "id": "9NZ_kI--8zPY",
        "colab_type": "code",
        "colab": {}
      },
      "cell_type": "code",
      "source": [
        "sent_accbase = []\n",
        "for i in sentevalbase:\n",
        "  sent_accbase.append(sentevalbase[i]['acc'])"
      ],
      "execution_count": 0,
      "outputs": []
    },
    {
      "metadata": {
        "id": "4LbqUHb_Qeda",
        "colab_type": "code",
        "colab": {}
      },
      "cell_type": "code",
      "source": [
        "senteval = {'MR': {'devacc': 60.19, 'acc': 52.86, 'ndev': 74, 'ntest': 74}, 'CR': {'devacc': 79.12, 'acc': 79.29, 'ndev': 3775, 'ntest': 3775}, 'SUBJ': {'devacc': 99.6, 'acc': 99.6, 'ndev': 5020, 'ntest': 5020}, 'MPQA': {'devacc': 84.62, 'acc': 84.81, 'ndev': 10606, 'ntest': 10606}, 'TREC': {'devacc': 67.86, 'acc': 73.2, 'ndev': 5452, 'ntest': 500}, 'SST2': {'devacc': 77.87, 'acc': 78.03, 'ndev': 872, 'ntest': 1821}, 'SICKEntailment': {'devacc': 80.4, 'acc': 77.57, 'ndev': 500, 'ntest': 4927}}"
      ],
      "execution_count": 0,
      "outputs": []
    },
    {
      "metadata": {
        "id": "wC75S0tvQhdG",
        "colab_type": "code",
        "colab": {
          "base_uri": "https://localhost:8080/",
          "height": 350
        },
        "outputId": "0278399f-735d-4257-a302-deada8316dd6"
      },
      "cell_type": "code",
      "source": [
        "sent_acc = []\n",
        "for i in senteval:\n",
        "  sent_acc.append(senteval[i]['acc'])\n",
        "plt.figure(figsize=(12,5))\n",
        "x = np.arange(len(senteval))\n",
        "plt.bar(x, sent_accbase, color=('grey'), width = 0.25, alpha=0.7)\n",
        "plt.bar(x + 0.25, sent_acc, color=('blue'), width = 0.25)\n",
        "plt.grid()\n",
        "plt.xlabel('epoch')\n",
        "plt.xticks(ticks=x,labels=list(senteval))\n",
        "plt.legend(('baseline','lstm'))\n",
        "plt.title('Baseline vs LSTM encoder: SentEval tasks')\n",
        "plt.show()"
      ],
      "execution_count": 53,
      "outputs": [
        {
          "output_type": "display_data",
          "data": {
            "image/png": "[encoded data removed]",
            "text/plain": [
              "<Figure size 864x360 with 1 Axes>"
            ]
          },
          "metadata": {
            "tags": []
          }
        }
      ]
    },
    {
      "metadata": {
        "id": "CPvTBfFoQkU0",
        "colab_type": "text"
      },
      "cell_type": "markdown",
      "source": [
        "# Inference example"
      ]
    },
    {
      "metadata": {
        "id": "rM0l6QIzBK6A",
        "colab_type": "code",
        "colab": {}
      },
      "cell_type": "code",
      "source": [
        "\n",
        "def load_data():\n",
        "    #all_data = {\"train\": None, \"dev\": None, \"test\": None}\n",
        "    x_field = data.Field(lower=True,\n",
        "                 tokenize=word_tokenize,\n",
        "                 include_lengths=True)\n",
        "    y_field = data.Field(sequential=False,\n",
        "                 pad_token=None,\n",
        "                 unk_token=None,\n",
        "                 is_target=True)\n",
        "    all_data = {}\n",
        "    all_data[\"train\"], all_data[\"dev\"], all_data[\"test\"]= datasets.SNLI.splits(x_field, y_field)\n",
        "    return all_data, x_field, y_field\n",
        "def load_glove_model(glovedir):\n",
        "    print(\"Loading Glove Model\")\n",
        "    model = torchtext.vocab.Vectors(glovedir)\n",
        "    print(\"Done.\")\n",
        "    return model\n",
        "\n",
        "all_data, texts, label = load_data()\n",
        "word_embeddings = load_glove_model('small_glove_torchnlp.txt')\n",
        "texts.build_vocab(all_data[\"train\"], vectors = word_embeddings)\n"
      ],
      "execution_count": 0,
      "outputs": []
    },
    {
      "metadata": {
        "id": "hpMT49H1TpMm",
        "colab_type": "code",
        "colab": {}
      },
      "cell_type": "code",
      "source": [
        "encoder = EncoderBaseline()\n",
        "encoder.load_state_dict(torch.load('Baselineenc.pt'))\n",
        "inp = 300\n",
        "clf = Classifier(input_size = 4*inp,\n",
        "                 hidden_size = 512, \n",
        "                 classes = [\"entailment\", \"contradiction\", \"neutral\"],\n",
        "                 encoder = encoder, \n",
        "                 embedding = texts.vocab.vectors).to('cuda')\n",
        "clf.load_state_dict(torch.load('Baseline.pt'))"
      ],
      "execution_count": 0,
      "outputs": []
    },
    {
      "metadata": {
        "id": "QDhEO4J2j0Ev",
        "colab_type": "code",
        "colab": {}
      },
      "cell_type": "code",
      "source": [
        "\n",
        "encoder = EncoderLSTM(emb_size=300, \n",
        "                  enc_size=2048, \n",
        "                  embedding=texts.vocab.vectors)\n",
        "encoder.load_state_dict(torch.load('LSTM_enc.pt'))\n",
        "inp = 2048\n",
        "clf = Classifier(input_size = 4*inp,\n",
        "                 hidden_size = 512, \n",
        "                 classes = [\"entailment\", \"contradiction\", \"neutral\"],\n",
        "                 encoder = encoder, \n",
        "                 embedding = texts.vocab.vectors).to('cuda')\n",
        "clf.load_state_dict(torch.load('LSTM.pt'))"
      ],
      "execution_count": 0,
      "outputs": []
    },
    {
      "metadata": {
        "id": "5kfzYTSjFVos",
        "colab_type": "code",
        "colab": {
          "base_uri": "https://localhost:8080/",
          "height": 170
        },
        "outputId": "b6bef4ea-8ef3-4e5a-8d9c-aef393f09aa8"
      },
      "cell_type": "code",
      "source": [
        "labels = ['entailment', 'contradiction', 'neutral']\n",
        "hypotheses = ['A boy was inside', 'A boy has no friends', 'It is bright']\n",
        "\n",
        "for hypothesis in hypotheses:\n",
        "  premise = 'A boy was outside and he was playing with friends'\n",
        "  print(premise)\n",
        "  print(hypothesis)\n",
        "  premise = word_tokenize(premise)\n",
        "  hypothesis = word_tokenize(hypothesis)\n",
        "  \n",
        "  premise = torch.tensor([texts.vocab.stoi[token] for token in premise]).to('cuda')\n",
        "  hypothesis = torch.tensor([texts.vocab.stoi[token] for token in hypothesis]).to('cuda')\n",
        "  premise_l = torch.tensor(len(premise)).to('cuda')\n",
        "  hypothesis_l = torch.tensor(len(hypothesis)).to('cuda')\n",
        "  y_pred = clf.forward(\n",
        "      (premise.expand(1, -1).transpose(0, 1).cpu(), premise_l.cpu()),\n",
        "      (hypothesis.expand(1, -1).transpose(0, 1).cpu(), hypothesis_l.cpu())\n",
        "  )\n",
        "  print(labels[y_pred.argmax().item()])\n"
      ],
      "execution_count": 60,
      "outputs": [
        {
          "output_type": "stream",
          "text": [
            "A boy was outside and he was playing with friends\n",
            "A boy was inside\n",
            "entailment\n",
            "A boy was outside and he was playing with friends\n",
            "A boy has no friends\n",
            "contradiction\n",
            "A boy was outside and he was playing with friends\n",
            "It is bright\n",
            "neutral\n"
          ],
          "name": "stdout"
        }
      ]
    }
  ]
}